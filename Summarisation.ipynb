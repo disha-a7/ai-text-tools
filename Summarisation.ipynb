{
  "cells": [
    {
      "cell_type": "code",
      "execution_count": 4,
      "metadata": {
        "colab": {
          "base_uri": "https://localhost:8080/",
          "height": 684
        },
        "id": "4RI__4nZZnoC",
        "outputId": "11ebd22b-7c0f-4185-db2e-ee653fefa7ff"
      },
      "outputs": [
        {
          "output_type": "stream",
          "name": "stderr",
          "text": [
            "Device set to use cpu\n",
            "Device set to use cpu\n"
          ]
        },
        {
          "output_type": "stream",
          "name": "stdout",
          "text": [
            "It looks like you are running Gradio on a hosted Jupyter notebook, which requires `share=True`. Automatically setting `share=True` (you can turn this off by setting `share=False` in `launch()` explicitly).\n",
            "\n",
            "Colab notebook detected. To show errors in colab notebook, set debug=True in launch()\n",
            "* Running on public URL: https://9f063de4abcd9b6ce8.gradio.live\n",
            "\n",
            "This share link expires in 1 week. For free permanent hosting and GPU upgrades, run `gradio deploy` from the terminal in the working directory to deploy to Hugging Face Spaces (https://huggingface.co/spaces)\n"
          ]
        },
        {
          "output_type": "display_data",
          "data": {
            "text/plain": [
              "<IPython.core.display.HTML object>"
            ],
            "text/html": [
              "<div><iframe src=\"https://9f063de4abcd9b6ce8.gradio.live\" width=\"100%\" height=\"500\" allow=\"autoplay; camera; microphone; clipboard-read; clipboard-write;\" frameborder=\"0\" allowfullscreen></iframe></div>"
            ]
          },
          "metadata": {}
        },
        {
          "output_type": "execute_result",
          "data": {
            "text/plain": []
          },
          "metadata": {},
          "execution_count": 4
        }
      ],
      "source": [
        "from transformers import pipeline\n",
        "import gradio as gr\n",
        "\n",
        "summarizer = pipeline(\"summarization\", model=\"facebook/bart-large-cnn\")\n",
        "question_gen = pipeline(\"text2text-generation\", model=\"iarfmoose/t5-base-question-generator\")\n",
        "\n",
        "def study_helper(text):\n",
        "    summary = summarizer(text, max_length=80, min_length=40, do_sample=False)[0]['summary_text']\n",
        "    questions = question_gen(text)[0]['generated_text']\n",
        "    return summary, questions\n",
        "\n",
        "iface = gr.Interface(\n",
        "    fn=study_helper,\n",
        "    inputs=gr.Textbox(lines=10, placeholder=\"Paste your notes here...\"),\n",
        "    outputs=['text', 'text'],\n",
        "    title='AI Study Helper',\n",
        "    description=\"Summarizes notes and generates study questions.\"\n",
        ")\n",
        "\n",
        "iface.launch()\n"
      ]
    },
    {
      "cell_type": "code",
      "execution_count": null,
      "metadata": {
        "colab": {
          "base_uri": "https://localhost:8080/"
        },
        "id": "glK-xIZNZsAZ",
        "outputId": "603e52f3-da42-4405-a9fd-6e0693c9da5b"
      },
      "outputs": [
        {
          "name": "stderr",
          "output_type": "stream",
          "text": [
            "Device set to use cpu\n",
            "/usr/local/lib/python3.11/dist-packages/transformers/models/marian/tokenization_marian.py:177: UserWarning: Recommended: pip install sacremoses.\n",
            "  warnings.warn(\"Recommended: pip install sacremoses.\")\n",
            "Device set to use cpu\n"
          ]
        },
        {
          "name": "stdout",
          "output_type": "stream",
          "text": [
            "\n",
            "📝 Original Text:\n",
            " Artificial Intelligence (AI) has revolutionized the way we interact with technology. From voice assistants like Alexa and Siri to personalized recommendations on platforms like Netflix and Amazon, AI is deeply integrated into our daily lives. It helps businesses analyze large volumes of data, predict customer behavior, and automate repetitive tasks, thereby improving efficiency and accuracy. In the healthcare sector, AI assists in diagnosing diseases, predicting patient outcomes, and even in robotic surgeries. As AI continues to evolve, it raises important ethical questions about privacy, bias, and job displacement. Nevertheless, its potential to bring about positive change remains immense.\n",
            "\n",
            "📌 English Summary:\n",
            " Artificial Intelligence (AI) has revolutionized the way we interact with technology. It helps businesses analyze large volumes of data, predict customer behavior, and automate repetitive tasks. In the healthcare sector, AI assists in diagnosing diseases, predicting patient outcomes, and even in robotic surgeries.\n",
            "\n",
            "🌐 Hindi Summary:\n",
            " कलावादवाद ने जिस तरह हम तकनीक के साथ व्यवहार करते हैं, उसी तरह बदलाव किया है। यह उद्योग डेटा के बड़े खंडों का विश्लेषण करता है, ग्राहक बर्ताव, और स्वचालित रूप से काम करने में मदद करता है। स्वास्थ्य क्षेत्र में, एआई रोगों में सहायता करता है, रोगी परिणाम, और यहां तक कि रोबोट की प्रक्रिया में भी मदद करता है।\n"
          ]
        }
      ],
      "source": [
        "from transformers import pipeline\n",
        "\n",
        "# Step 1: Load a high-quality summarization model\n",
        "# This model is trained on news-style articles (good for structured info)\n",
        "summarizer = pipeline(\"summarization\", model=\"facebook/bart-large-cnn\")\n",
        "\n",
        "# Step 2: Load a good English-to-Hindi translation model\n",
        "translator = pipeline(\"translation_en_to_hi\", model=\"Helsinki-NLP/opus-mt-en-hi\")\n",
        "\n",
        "# Step 3: Your full input text (paragraph)\n",
        "text = \"\"\"Artificial Intelligence (AI) has revolutionized the way we interact with technology. From voice assistants like Alexa and Siri to personalized recommendations on platforms like Netflix and Amazon, AI is deeply integrated into our daily lives. It helps businesses analyze large volumes of data, predict customer behavior, and automate repetitive tasks, thereby improving efficiency and accuracy. In the healthcare sector, AI assists in diagnosing diseases, predicting patient outcomes, and even in robotic surgeries. As AI continues to evolve, it raises important ethical questions about privacy, bias, and job displacement. Nevertheless, its potential to bring about positive change remains immense.\"\"\"\n",
        "\n",
        "# Step 4: Summarize the input in English\n",
        "summary = summarizer(text, max_length=80, min_length=40, do_sample=False)[0]['summary_text']\n",
        "\n",
        "# Step 5: Translate the English summary to Hindi\n",
        "translated_summary = translator(summary)[0]['translation_text']\n",
        "\n",
        "# Step 6: Display the results\n",
        "print(\"\\n Original Text:\\n\", text)\n",
        "print(\"\\n English Summary:\\n\", summary)\n",
        "print(\"\\n Hindi Summary:\\n\", translated_summary)\n"
      ]
    }
  ],
  "metadata": {
    "colab": {
      "provenance": []
    },
    "kernelspec": {
      "display_name": "Python 3",
      "name": "python3"
    },
    "language_info": {
      "name": "python"
    }
  },
  "nbformat": 4,
  "nbformat_minor": 0
}